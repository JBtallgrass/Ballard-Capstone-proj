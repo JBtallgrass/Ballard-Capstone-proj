{
 "cells": [
  {
   "cell_type": "markdown",
   "id": "0eb54771",
   "metadata": {},
   "source": [
    "Step 1: Import Required Libraries"
   ]
  },
  {
   "cell_type": "code",
   "execution_count": null,
   "id": "b1688e28",
   "metadata": {},
   "outputs": [],
   "source": [
    "import pandas as pd\n",
    "import matplotlib.pyplot as plt\n",
    "import seaborn as sns\n",
    "import numpy as np\n",
    "\n",
    "# Set style\n",
    "sns.set(style='whitegrid')\n"
   ]
  },
  {
   "cell_type": "markdown",
   "id": "7fa3174f",
   "metadata": {},
   "source": [
    "Step 2: Load and Merge Datasets"
   ]
  },
  {
   "cell_type": "code",
   "execution_count": null,
   "id": "30f35b0c",
   "metadata": {},
   "outputs": [],
   "source": [
    "# Load each dataset\n",
    "edu = pd.read_csv('ed_lvl_ar.csv')\n",
    "pop = pd.read_csv('pop_lvl_ar.csv')\n",
    "poverty = pd.read_csv('poverty_lvl_ar.csv')\n",
    "unemp = pd.read_csv('unemploy_lvl_ar.csv')\n",
    "\n",
    "# Merge on a common column (assumed to be 'County')\n",
    "df = edu.merge(pop, on='County').merge(poverty, on='County').merge(unemp, on='County')\n",
    "\n"
   ]
  },
  {
   "cell_type": "markdown",
   "id": "1760e7b9",
   "metadata": {},
   "source": [
    "Step 3: Inspect Dataset"
   ]
  },
  {
   "cell_type": "code",
   "execution_count": null,
   "id": "cb47a139",
   "metadata": {},
   "outputs": [],
   "source": [
    "print(df.info())\n",
    "print(df.describe())\n",
    "print(df.head())\n"
   ]
  },
  {
   "cell_type": "markdown",
   "id": "7fe07365",
   "metadata": {},
   "source": [
    "Step 3.1 Clean the Data"
   ]
  },
  {
   "cell_type": "code",
   "execution_count": null,
   "id": "b1b99510",
   "metadata": {},
   "outputs": [],
   "source": [
    "#Cleaning the Data\n",
    "# Check for null values\n",
    "print('Null Values in Each Column:')\n",
    "print(df.isnull().sum())\n",
    "# Check for duplicates\n",
    "duplicates = df.duplicated().sum()\n",
    "print(f'Duplicates: {duplicates}')\n",
    "# Check for unique values in 'County'\n",
    "unique_counties = df['County'].nunique()\n",
    "print(f'Unique Counties: {unique_counties}')\n",
    "# Check for missing values in each column\n",
    "missing_values = df.isnull().sum()\n",
    "print('Missing Values:\\n', missing_values)"
   ]
  },
  {
   "cell_type": "markdown",
   "id": "4cb3fa84",
   "metadata": {},
   "source": [
    "Step 4: Visualize Distributions (Histograms & KDE)"
   ]
  },
  {
   "cell_type": "code",
   "execution_count": null,
   "id": "efdd91e3",
   "metadata": {},
   "outputs": [],
   "source": [
    "# Visualize the distributions of key variables\n",
    "variables = ['PovertyRate', 'UnemploymentRate', 'HighSchoolGradRate', 'BachelorsDegreeRate']\n",
    "\n",
    "for var in variables:\n",
    "    plt.figure(figsize=(8,4))\n",
    "    sns.histplot(df[var], kde=True, bins=20)\n",
    "    plt.title(f'Distribution of {var}')\n",
    "    plt.xlabel(var)\n",
    "    plt.ylabel('Frequency')\n",
    "    plt.tight_layout()\n",
    "    plt.show()"
   ]
  },
  {
   "cell_type": "markdown",
   "id": "83a7d206",
   "metadata": {},
   "source": [
    "Step 5: Correlation Matrix and Heatmap"
   ]
  },
  {
   "cell_type": "code",
   "execution_count": null,
   "id": "7a6c79d8",
   "metadata": {},
   "outputs": [],
   "source": [
    "# Select only numeric columns of interest\n",
    "corr_vars = df[['PovertyRate', 'UnemploymentRate', 'HighSchoolGradRate', 'BachelorsDegreeRate', 'Population']]\n",
    "corr_matrix = corr_vars.corr()\n",
    "\n",
    "plt.figure(figsize=(8,6))\n",
    "sns.heatmap(corr_matrix, annot=True, cmap='coolwarm', fmt='.2f')\n",
    "plt.title('Correlation Matrix of Key Indicators')\n",
    "plt.tight_layout()\n",
    "plt.show()"
   ]
  },
  {
   "cell_type": "markdown",
   "id": "c65f447c",
   "metadata": {},
   "source": [
    "Step 6: Scatter Plots for Key Relationships"
   ]
  },
  {
   "cell_type": "code",
   "execution_count": null,
   "id": "e8a20594",
   "metadata": {},
   "outputs": [],
   "source": [
    "# Scatter plots to visualize relationships between key indicators\n",
    "plt.figure(figsize=(8,6))\n",
    "sns.scatterplot(x='BachelorsDegreeRate', y='PovertyRate', data=df)\n",
    "plt.title('Bachelor’s Degree Rate vs Poverty Rate')\n",
    "plt.xlabel('Bachelor’s Degree (%)')\n",
    "plt.ylabel('Poverty Rate (%)')\n",
    "plt.tight_layout()\n",
    "plt.show()\n",
    "\n",
    "# Scatter plot for High School Grad Rate vs Unemployment Rate\n",
    "plt.figure(figsize=(8,6))\n",
    "sns.scatterplot(x='HighSchoolGradRate', y='UnemploymentRate', data=df)\n",
    "plt.title('High School Grad Rate vs Unemployment Rate')\n",
    "plt.xlabel('High School Grad (%)')\n",
    "plt.ylabel('Unemployment Rate (%)')\n",
    "plt.tight_layout()\n",
    "plt.show()\n"
   ]
  },
  {
   "cell_type": "markdown",
   "id": "33eb9728",
   "metadata": {},
   "source": [
    "Step 7: Identify Outlier Counties with Boxplots"
   ]
  },
  {
   "cell_type": "code",
   "execution_count": null,
   "id": "3c01626a",
   "metadata": {},
   "outputs": [],
   "source": [
    "# Boxplots to visualize the distribution of key indicators\n",
    "for var in variables:\n",
    "    plt.figure(figsize=(8,4))\n",
    "    sns.boxplot(x=df[var])\n",
    "    plt.title(f'Boxplot of {var}')\n",
    "    plt.tight_layout()\n",
    "    plt.show()\n"
   ]
  },
  {
   "cell_type": "markdown",
   "id": "cd43f863",
   "metadata": {},
   "source": []
  },
  {
   "cell_type": "code",
   "execution_count": null,
   "id": "48725053",
   "metadata": {},
   "outputs": [],
   "source": [
    "df['LogPopulation'] = np.log1p(df['Population'])  # log(1 + x) avoids log(0)\n",
    "\n",
    "plt.figure(figsize=(8,4))\n",
    "sns.histplot(df['LogPopulation'], kde=True)\n",
    "plt.title('Log-Transformed Population Distribution')\n",
    "plt.xlabel('Log(Population)')\n",
    "plt.tight_layout()\n",
    "plt.show()"
   ]
  }
 ],
 "metadata": {
  "language_info": {
   "name": "python"
  }
 },
 "nbformat": 4,
 "nbformat_minor": 5
}
